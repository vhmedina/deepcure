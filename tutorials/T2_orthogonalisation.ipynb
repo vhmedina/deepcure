{
 "cells": [
  {
   "attachments": {},
   "cell_type": "markdown",
   "metadata": {},
   "source": [
    "# How to use the Orthogonalisation feature in `deepcure` package\n",
    "Again we are going to simulate and then fit a Promotion Time Cure model, precisely this time, we assume\n",
    "$$S_p(t|\\mathbf{x}) = \\exp(-\\exp(\\eta(\\mathbf{x}))F(t))$$\n",
    "\n",
    "where $\\eta(\\mathbf{x}) = \\eta^{lin}(\\mathbf{x})+\\eta^{non}(\\mathbf{x})$, where $\\eta^{lin}(\\mathbf{x})= -1+\\frac{2}{1}x_1+\\frac{2}{2}x_2+\\frac{2}{3}x_3$ and $\\eta^{non}(\\mathbf{x})=-0.8x_{1}^2+4x_{2}^3-0.75\\cos(x_{3})$. Moreover, $\\eta^{non}(\\mathbf{x})$ is projected to the orthogonal complement of $\\eta^{lin}(\\mathbf{x})$."
   ]
  },
  {
   "cell_type": "code",
   "execution_count": 26,
   "metadata": {},
   "outputs": [],
   "source": [
    "import matplotlib.pyplot as plt\n",
    "import tensorflow as tf\n",
    "import numpy as np\n",
    "from deepcure.simulations import simDF_PTM\n",
    "from deepcure.models import DeepPTM"
   ]
  },
  {
   "attachments": {},
   "cell_type": "markdown",
   "metadata": {},
   "source": [
    "## Simulate data\n",
    "We simulate 10.000 data points from a PTM model with the following parameters with $F(t)=1-\\exp(-t)$ (exponential distribution with rate 1). We can still use the `simDF_PTM` function as follows:"
   ]
  },
  {
   "cell_type": "code",
   "execution_count": 27,
   "metadata": {},
   "outputs": [
    {
     "name": "stdout",
     "output_type": "stream",
     "text": [
      "Number of subjects: 10000\n",
      "Number of events: 3628\n",
      "Event rate (#events/n): 0.3628\n"
     ]
    }
   ],
   "source": [
    "n_inds = 10000\n",
    "end_study = 3\n",
    "df_sim = simDF_PTM(scenario=4, n=n_inds, end_of_study=end_study) # scenario 4 considers a linear and non-linear predictor"
   ]
  },
  {
   "attachments": {},
   "cell_type": "markdown",
   "metadata": {},
   "source": [
    "## Preprocess data\n",
    "As before, the steps are simple. We need to define the breakpoints. Also, we need to transform the data into TensorFlow format."
   ]
  },
  {
   "cell_type": "code",
   "execution_count": 28,
   "metadata": {},
   "outputs": [],
   "source": [
    "# create break_val equal to the quantiles of time_event when label_event is 1\n",
    "break_val = df_sim[\"time_event\"][df_sim[\"label_event\"]==1].values\n",
    "break_val  = np.quantile(break_val,[0, 0.2, 0.4, 0.6, 0.8, 1])\n",
    "break_val[0] = 0\n",
    "break_val[-1] = df_sim[\"time_event\"].max()\n",
    "break_val = tf.convert_to_tensor(break_val, dtype=tf.float64)\n",
    "\n",
    "# Data to tf.Tensor\n",
    "# get the number of columns in the df_sim dataframe that starts with 'x'\n",
    "num_covs = len(df_sim.columns[df_sim.columns.str.startswith('x')])\n",
    "x_data = tf.convert_to_tensor(df_sim.iloc[:, 0:num_covs].values.reshape(-1, num_covs), dtype=tf.float64)\n",
    "label_data = tf.convert_to_tensor(df_sim[\"label_event\"], dtype=tf.float64)\n",
    "time_data = tf.convert_to_tensor(df_sim[\"time_event\"], dtype=tf.float64)\n",
    "\n",
    "df_sim_tensor = {'x':x_data,\n",
    "        'label_event':label_data,\n",
    "        'time_event':time_data}"
   ]
  },
  {
   "attachments": {},
   "cell_type": "markdown",
   "metadata": {},
   "source": [
    "We can now split the data into training and test sets. We simple use the first 80% of the data for training and the rest for testing."
   ]
  },
  {
   "cell_type": "code",
   "execution_count": 29,
   "metadata": {},
   "outputs": [],
   "source": [
    "# split df_sim_tensor data into train and validation sets\n",
    "train_data = {'x':df_sim_tensor['x'][:int(0.8*n_inds)],\n",
    "        'label_event':df_sim_tensor['label_event'][:int(0.8*n_inds)],\n",
    "        'time_event':df_sim_tensor['time_event'][:int(0.8*n_inds)]}\n",
    "valid_data = {'x':df_sim_tensor['x'][int(0.8*n_inds):],\n",
    "        'label_event':df_sim_tensor['label_event'][int(0.8*n_inds):],\n",
    "        'time_event':df_sim_tensor['time_event'][int(0.8*n_inds):]}"
   ]
  },
  {
   "attachments": {},
   "cell_type": "markdown",
   "metadata": {},
   "source": [
    "## Define the model\n",
    "We fit two models: one without orthogalisation and one with orthogalisation. We use the same architecture for both."
   ]
  },
  {
   "cell_type": "code",
   "execution_count": 31,
   "metadata": {},
   "outputs": [
    {
     "data": {
      "text/plain": [
       "<keras.callbacks.History at 0x175d2b6a0>"
      ]
     },
     "execution_count": 31,
     "metadata": {},
     "output_type": "execute_result"
    }
   ],
   "source": [
    "# create DeepPTM model without orthogonalisation and piecewise Exponential F\n",
    "n_epochs = 500\n",
    "b_size = 512\n",
    "num_units = 64\n",
    "st_decay = 500 \n",
    "rt_decay = 0.5\n",
    "ini_lr = 0.01\n",
    "stack_eta_no_orth = [tf.keras.layers.Dense(num_units, activation='relu', dtype=tf.float64),\n",
    "                tf.keras.layers.Dropout(0.2),\n",
    "                tf.keras.layers.Dense(num_units, activation='relu', dtype=tf.float64),\n",
    "                tf.keras.layers.Dropout(0.2),\n",
    "                tf.keras.layers.Dense(1, activation='linear', dtype=tf.float64, name = \"eta\")]\n",
    "model_no_orth = DeepPTM(stack_eta = stack_eta_no_orth, t_func='pe', break_val=break_val) # define the model\n",
    "# compile the model\n",
    "lr = tf.keras.optimizers.schedules.InverseTimeDecay(initial_learning_rate=ini_lr, decay_steps=st_decay, decay_rate=rt_decay)\n",
    "model_no_orth.compile(tf.keras.optimizers.RMSprop(learning_rate=lr))\n",
    "# define the callback for early stopping\n",
    "early_stopping = tf.keras.callbacks.EarlyStopping(monitor='val_loss', patience=5)\n",
    "# Fit the model\n",
    "model_no_orth.fit(train_data, epochs=n_epochs, batch_size=b_size, validation_data=valid_data, callbacks=[early_stopping], verbose=0)"
   ]
  },
  {
   "attachments": {},
   "cell_type": "markdown",
   "metadata": {},
   "source": [
    "Now, let's define and train the model with orthogonalisation:"
   ]
  },
  {
   "cell_type": "code",
   "execution_count": 32,
   "metadata": {},
   "outputs": [
    {
     "data": {
      "text/plain": [
       "<keras.callbacks.History at 0x1774e1df0>"
      ]
     },
     "execution_count": 32,
     "metadata": {},
     "output_type": "execute_result"
    }
   ],
   "source": [
    "# create DeepPTM model with orthogonalisation and piecewise Exponential F\n",
    "stack_eta_with_orth = [tf.keras.layers.Dense(num_units, activation='relu', dtype=tf.float64, use_bias=False),\n",
    "                tf.keras.layers.Dropout(0.2),\n",
    "                tf.keras.layers.Dense(num_units, activation='relu', dtype=tf.float64),\n",
    "                tf.keras.layers.Dropout(0.2),\n",
    "                tf.keras.layers.Dense(1, activation='linear', dtype=tf.float64, name = \"eta\", use_bias=False)]\n",
    "model_with_orth = DeepPTM(stack_eta = stack_eta_with_orth, t_func='pe', break_val=break_val, cols_ortho='all') # define the model\n",
    "# compile the model\n",
    "lr = tf.keras.optimizers.schedules.InverseTimeDecay(initial_learning_rate=ini_lr, decay_steps=st_decay, decay_rate=rt_decay)\n",
    "model_with_orth.compile(tf.keras.optimizers.RMSprop(learning_rate=lr))\n",
    "# define the callback for early stopping\n",
    "early_stopping = tf.keras.callbacks.EarlyStopping(monitor='val_loss', patience=5)\n",
    "# Fit the model\n",
    "model_with_orth.fit(train_data, epochs=n_epochs, batch_size=b_size, validation_data=valid_data, callbacks=[early_stopping], verbose=0)"
   ]
  },
  {
   "attachments": {},
   "cell_type": "markdown",
   "metadata": {},
   "source": [
    "## Results\n",
    "Let's first check how similar the predictors $\\eta$ are. To do so, we can get the corresponding predictions and then plot them with respect to the true values."
   ]
  },
  {
   "cell_type": "code",
   "execution_count": 33,
   "metadata": {},
   "outputs": [],
   "source": [
    "eta_est_no_orth = model_no_orth.eta_predict(valid_data)\n",
    "eta_est_with_orth = model_with_orth.eta_predict(valid_data)"
   ]
  },
  {
   "cell_type": "code",
   "execution_count": 34,
   "metadata": {},
   "outputs": [
    {
     "data": {
      "image/png": "[encoded data removed]",
      "text/plain": [
       "<Figure size 640x480 with 1 Axes>"
      ]
     },
     "metadata": {},
     "output_type": "display_data"
    }
   ],
   "source": [
    "# plot both eta_est_no_orth, eta_est_with_orth versus df_sim['eta']\n",
    "plt.plot(df_sim['eta'][int(0.8*n_inds):], eta_est_no_orth, 'o', label='No Ortho')\n",
    "plt.plot(df_sim['eta'][int(0.8*n_inds):], eta_est_with_orth, 'o', label='With Ortho')\n",
    "plt.plot(df_sim['eta'][int(0.8*n_inds):], df_sim['eta'][int(0.8*n_inds):], 'k--', label='True')\n",
    "plt.xlabel('True eta')\n",
    "plt.ylabel('Estimated eta')\n",
    "plt.legend()\n",
    "plt.show()"
   ]
  },
  {
   "attachments": {},
   "cell_type": "markdown",
   "metadata": {},
   "source": [
    "As expected, the estimated $\\eta$ are very close to each other. Now, let's check the linear part of the predictor. Remember the true values were $-1+\\frac{2}{1}x_1+\\frac{2}{2}x_2+\\frac{2}{3}x_3$."
   ]
  },
  {
   "cell_type": "code",
   "execution_count": 35,
   "metadata": {},
   "outputs": [
    {
     "name": "stdout",
     "output_type": "stream",
     "text": [
      "intercept: [-0.86701843] \n",
      "betas: [1.72628947 0.97898478 0.67375877]\n"
     ]
    }
   ],
   "source": [
    "betas = model_with_orth.get_layer('out_lin_layer').get_weights()[0]\n",
    "intercept = model_with_orth.get_layer('out_lin_layer').get_weights()[1]\n",
    "print(\"intercept:\",intercept,\"\\nbetas:\", betas.flatten())"
   ]
  }
 ],
 "metadata": {
  "kernelspec": {
   "display_name": "Python 3.9.12 ('deep_ptm')",
   "language": "python",
   "name": "python3"
  },
  "language_info": {
   "codemirror_mode": {
    "name": "ipython",
    "version": 3
   },
   "file_extension": ".py",
   "mimetype": "text/x-python",
   "name": "python",
   "nbconvert_exporter": "python",
   "pygments_lexer": "ipython3",
   "version": "3.9.16"
  },
  "orig_nbformat": 4,
  "vscode": {
   "interpreter": {
    "hash": "ec86b5f5eb8384763e0ea698cd55382cc40928171769f100ada838a927cee28e"
   }
  }
 },
 "nbformat": 4,
 "nbformat_minor": 2
}
